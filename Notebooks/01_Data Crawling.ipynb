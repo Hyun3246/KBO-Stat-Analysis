{
  "cells": [
    {
      "cell_type": "code",
      "execution_count": null,
      "metadata": {},
      "outputs": [
        {
          "name": "stdout",
          "output_type": "stream",
          "text": [
            "Requirement already satisfied: beautifulsoup4 in /usr/local/lib/python3.10/dist-packages (4.12.3)\n",
            "Requirement already satisfied: soupsieve>1.2 in /usr/local/lib/python3.10/dist-packages (from beautifulsoup4) (2.6)\n"
          ]
        }
      ],
      "source": [
        "!pip install beautifulsoup4"
      ]
    },
    {
      "cell_type": "code",
      "execution_count": null,
      "metadata": {},
      "outputs": [],
      "source": [
        "import requests\n",
        "from bs4 import BeautifulSoup\n",
        "import pandas as pd"
      ]
    },
    {
      "cell_type": "code",
      "execution_count": null,
      "metadata": {},
      "outputs": [],
      "source": [
        "url = 'url for the website'\n",
        "response = requests.get(url)"
      ]
    },
    {
      "cell_type": "code",
      "execution_count": null,
      "metadata": {},
      "outputs": [],
      "source": [
        "html = response.text\n",
        "soup = BeautifulSoup(html, 'html.parser')\n",
        "temp = soup.find_all(\"table\")[0]"
      ]
    },
    {
      "cell_type": "code",
      "execution_count": null,
      "metadata": {},
      "outputs": [],
      "source": [
        "df = pd.DataFrame(index = range(1, 50+1), columns = [\n",
        "    \"순\", \"이름\", \"팀\", \"WAR\", \"oWAR\",'dWAR', '경기수', \"타석\", '유효 타석', \"타수\", \"득점\", \"안타\", \"2루타\", \"3루타\",\n",
        "    \"홈런\", \"루타\", \"타점\", \"도루성공\", \"도루실패\", \"볼넷\", \"사구\", \"고의사구\", \"삼진\", \"병살\", \"희생번트\", \"희생플라이\", \"타율\", \"출루율\", \"장타율\",\n",
        "                                                 \"OPS\", 'R/ePA', \"wRC+\", \"WAR2\"])"
      ]
    },
    {
      "cell_type": "code",
      "execution_count": null,
      "metadata": {},
      "outputs": [],
      "source": [
        "# perform the code below for 10 times (for each club) and merged them.\n",
        "l = 0\n",
        "temp2 = temp.find_all(\"tr\")[3]\n",
        "for j in range(60):\n",
        "    temp2 = temp.find_all(\"tr\")[j]\n",
        "    if len(temp2.find_all(\"td\")) == 33:\n",
        "        for i in range(33):\n",
        "            temp3 = temp2.find_all(\"td\")[i]\n",
        "            df.iloc[l,i] = temp3.get_text()\n",
        "        l += 1"
      ]
    },
    {
      "cell_type": "code",
      "execution_count": null,
      "metadata": {},
      "outputs": [],
      "source": [
        "df.to_csv(\"batters stats.csv\", index = False)"
      ]
    }
  ],
  "metadata": {
    "accelerator": "GPU",
    "colab": {
      "gpuType": "T4",
      "provenance": []
    },
    "kernelspec": {
      "display_name": "Python 3",
      "name": "python3"
    },
    "language_info": {
      "name": "python"
    }
  },
  "nbformat": 4,
  "nbformat_minor": 0
}
