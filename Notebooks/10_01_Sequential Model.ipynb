{
  "cells": [
    {
      "cell_type": "code",
      "execution_count": 1,
      "metadata": {
        "id": "qz4IHE_DUO8X"
      },
      "outputs": [],
      "source": [
        "import pandas as pd\n",
        "import numpy as np\n",
        "import matplotlib.pyplot as plt"
      ]
    },
    {
      "cell_type": "code",
      "execution_count": 2,
      "metadata": {
        "id": "D8xCJT5_UO8X"
      },
      "outputs": [],
      "source": [
        "df = pd.read_csv('/content/sample_data/KBO increased data_over 30 AB.csv')"
      ]
    },
    {
      "cell_type": "code",
      "execution_count": 3,
      "metadata": {
        "id": "0SRXc7tUUO8Y"
      },
      "outputs": [],
      "source": [
        "R = df[\"R\"].to_numpy()\n",
        "R = R.reshape(-1, 1)\n",
        "\n",
        "RBI = df[\"RBI\"].to_numpy()\n",
        "RBI = RBI.reshape(-1, 1)\n",
        "\n",
        "WAR = df[\"WAR\"].to_numpy()\n",
        "WAR = WAR.reshape(-1, 1)\n",
        "\n",
        "df = np.concatenate((R, RBI, WAR), axis=1)\n",
        "\n",
        "# Split train set, val set and test set\n",
        "from sklearn.model_selection import train_test_split\n",
        "train_set, test_set = train_test_split(df, test_size=0.2, random_state=42)\n",
        "train_set, val_set = train_test_split(train_set, test_size=0.2, random_state=42)"
      ]
    },
    {
      "cell_type": "code",
      "execution_count": 4,
      "metadata": {
        "id": "qqDYcnixUO8Y"
      },
      "outputs": [],
      "source": [
        "X_train = train_set[:, 0:2]\n",
        "y_train = train_set[:, 2]\n",
        "X_val = val_set[:, 0:2]\n",
        "y_val = val_set[:, 2]\n",
        "X_test = test_set[:, 0:2]\n",
        "y_test = test_set[:, 2]"
      ]
    },
    {
      "cell_type": "code",
      "execution_count": 5,
      "metadata": {
        "colab": {
          "base_uri": "https://localhost:8080/"
        },
        "id": "lYew0Wa3E7PZ",
        "outputId": "05040402-a9df-4107-c970-1db23e7396a8"
      },
      "outputs": [
        {
          "output_type": "stream",
          "name": "stdout",
          "text": [
            "\u001b[?25l   \u001b[90m━━━━━━━━━━━━━━━━━━━━━━━━━━━━━━━━━━━━━━━━\u001b[0m \u001b[32m0.0/129.1 kB\u001b[0m \u001b[31m?\u001b[0m eta \u001b[36m-:--:--\u001b[0m\r\u001b[2K   \u001b[91m━━━━━━━━━━━━━━━━━━━━━━━━━━━━━━━━━━━━━━\u001b[0m\u001b[90m╺\u001b[0m\u001b[90m━\u001b[0m \u001b[32m122.9/129.1 kB\u001b[0m \u001b[31m3.9 MB/s\u001b[0m eta \u001b[36m0:00:01\u001b[0m\r\u001b[2K   \u001b[90m━━━━━━━━━━━━━━━━━━━━━━━━━━━━━━━━━━━━━━━━\u001b[0m \u001b[32m129.1/129.1 kB\u001b[0m \u001b[31m2.7 MB/s\u001b[0m eta \u001b[36m0:00:00\u001b[0m\n",
            "\u001b[?25h"
          ]
        }
      ],
      "source": [
        "%pip install -q -U keras-tuner"
      ]
    },
    {
      "cell_type": "code",
      "execution_count": 8,
      "metadata": {
        "id": "ZLA_EKx1UO8Y"
      },
      "outputs": [],
      "source": [
        "import tensorflow as tf\n",
        "import keras_tuner as kt\n",
        "\n",
        "def rmse(y_true, y_pred):\n",
        "    return tf.sqrt(tf.reduce_mean(tf.square(y_true - y_pred)))\n",
        "\n",
        "tf.random.set_seed(42)\n",
        "\n",
        "def build_model(hp):\n",
        "    n_hidden = hp.Int(\"n_hidden\", min_value=4, max_value=12, default=4)\n",
        "    n_neurons = hp.Int(\"n_neurons\", min_value=32, max_value=128)\n",
        "    learning_rate = hp.Float(\"learning_rate\", min_value=1e-4, max_value=1e-2,\n",
        "                             sampling=\"log\")\n",
        "    optimizer = hp.Choice(\"optimizer\", values=[\"adam\", 'NAG', 'RMSprop'])\n",
        "\n",
        "    if optimizer == \"NAG\":\n",
        "        optimizer = tf.keras.optimizers.SGD(learning_rate=learning_rate, momentum=0.9, nesterov=True, weight_decay=1e-4)\n",
        "    elif optimizer == \"RMSprop\":\n",
        "        optimizer = tf.keras.optimizers.RMSprop(learning_rate=learning_rate, rho=0.9, weight_decay=1e-4)\n",
        "    else:\n",
        "        optimizer = tf.keras.optimizers.Adam(learning_rate=learning_rate, weight_decay=1e-4)\n",
        "\n",
        "    model = tf.keras.Sequential()\n",
        "\n",
        "    for _ in range(n_hidden):\n",
        "        model.add(tf.keras.layers.BatchNormalization())\n",
        "        model.add(tf.keras.layers.Dense(n_neurons, activation=\"relu\"))\n",
        "\n",
        "    model.add(tf.keras.layers.BatchNormalization())\n",
        "    model.add(tf.keras.layers.Dense(1))\n",
        "\n",
        "    model.compile(loss=rmse, optimizer=optimizer)\n",
        "    return model"
      ]
    },
    {
      "cell_type": "code",
      "execution_count": 10,
      "metadata": {
        "colab": {
          "base_uri": "https://localhost:8080/"
        },
        "id": "5CEP6YGJE7Pa",
        "outputId": "34a9e27d-aa3f-4389-a09a-3e4ca3248eb2"
      },
      "outputs": [
        {
          "output_type": "stream",
          "name": "stdout",
          "text": [
            "Trial 50 Complete [00h 00m 23s]\n",
            "val_loss: 0.9285913705825806\n",
            "\n",
            "Best val_loss So Far: 0.9285913705825806\n",
            "Total elapsed time: 00h 17m 36s\n"
          ]
        }
      ],
      "source": [
        "random_search_tuner = kt.RandomSearch(\n",
        "    build_model, objective='val_loss', max_trials=50, overwrite=True,\n",
        "    directory='Predict WAR', project_name='my_rnd_search', seed=42\n",
        ")\n",
        "random_search_tuner.search(\n",
        "    X_train, y_train, epochs=100,\n",
        "    validation_data=(X_val, y_val), batch_size=32,\n",
        "    callbacks=[tf.keras.callbacks.EarlyStopping(patience=10, monitor='val_loss', restore_best_weights=True)])"
      ]
    },
    {
      "cell_type": "code",
      "source": [
        "random_search_tuner.results_summary()"
      ],
      "metadata": {
        "colab": {
          "base_uri": "https://localhost:8080/"
        },
        "id": "4Sx438IZFQh7",
        "outputId": "c314f62a-8b9e-4ce9-a34a-0351d2163370"
      },
      "execution_count": 11,
      "outputs": [
        {
          "output_type": "stream",
          "name": "stdout",
          "text": [
            "Results summary\n",
            "Results in Predict WAR/my_rnd_search\n",
            "Showing 10 best trials\n",
            "Objective(name=\"val_loss\", direction=\"min\")\n",
            "\n",
            "Trial 49 summary\n",
            "Hyperparameters:\n",
            "n_hidden: 11\n",
            "n_neurons: 43\n",
            "learning_rate: 0.005343634220268847\n",
            "optimizer: RMSprop\n",
            "Score: 0.9285913705825806\n",
            "\n",
            "Trial 31 summary\n",
            "Hyperparameters:\n",
            "n_hidden: 5\n",
            "n_neurons: 54\n",
            "learning_rate: 0.003098269932407016\n",
            "optimizer: adam\n",
            "Score: 1.0014435052871704\n",
            "\n",
            "Trial 43 summary\n",
            "Hyperparameters:\n",
            "n_hidden: 8\n",
            "n_neurons: 36\n",
            "learning_rate: 0.005218086982564764\n",
            "optimizer: RMSprop\n",
            "Score: 1.0239744186401367\n",
            "\n",
            "Trial 23 summary\n",
            "Hyperparameters:\n",
            "n_hidden: 8\n",
            "n_neurons: 96\n",
            "learning_rate: 0.0014172041528226799\n",
            "optimizer: adam\n",
            "Score: 1.065461277961731\n",
            "\n",
            "Trial 21 summary\n",
            "Hyperparameters:\n",
            "n_hidden: 9\n",
            "n_neurons: 36\n",
            "learning_rate: 0.007586966748878234\n",
            "optimizer: NAG\n",
            "Score: 1.0750149488449097\n",
            "\n",
            "Trial 03 summary\n",
            "Hyperparameters:\n",
            "n_hidden: 12\n",
            "n_neurons: 40\n",
            "learning_rate: 0.008547485565344062\n",
            "optimizer: adam\n",
            "Score: 1.0835633277893066\n",
            "\n",
            "Trial 18 summary\n",
            "Hyperparameters:\n",
            "n_hidden: 6\n",
            "n_neurons: 118\n",
            "learning_rate: 0.0043925333029596605\n",
            "optimizer: adam\n",
            "Score: 1.091673731803894\n",
            "\n",
            "Trial 05 summary\n",
            "Hyperparameters:\n",
            "n_hidden: 12\n",
            "n_neurons: 75\n",
            "learning_rate: 0.0008960175671873151\n",
            "optimizer: NAG\n",
            "Score: 1.1679304838180542\n",
            "\n",
            "Trial 06 summary\n",
            "Hyperparameters:\n",
            "n_hidden: 4\n",
            "n_neurons: 39\n",
            "learning_rate: 0.00304325168554751\n",
            "optimizer: RMSprop\n",
            "Score: 1.1686700582504272\n",
            "\n",
            "Trial 37 summary\n",
            "Hyperparameters:\n",
            "n_hidden: 4\n",
            "n_neurons: 105\n",
            "learning_rate: 0.0005580490517344697\n",
            "optimizer: NAG\n",
            "Score: 1.1738628149032593\n"
          ]
        }
      ]
    },
    {
      "cell_type": "code",
      "execution_count": 12,
      "metadata": {
        "colab": {
          "base_uri": "https://localhost:8080/"
        },
        "id": "4OMuEUP8UO8Z",
        "outputId": "d2f570df-2d5c-4868-80c3-97073668da4c"
      },
      "outputs": [
        {
          "output_type": "execute_result",
          "data": {
            "text/plain": [
              "{'n_hidden': 11,\n",
              " 'n_neurons': 43,\n",
              " 'learning_rate': 0.005343634220268847,\n",
              " 'optimizer': 'RMSprop'}"
            ]
          },
          "metadata": {},
          "execution_count": 12
        }
      ],
      "source": [
        "top3_params = random_search_tuner.get_best_hyperparameters(num_trials=3)\n",
        "top3_params[0].values"
      ]
    },
    {
      "cell_type": "code",
      "execution_count": 13,
      "metadata": {
        "colab": {
          "base_uri": "https://localhost:8080/"
        },
        "id": "c7LgQ8a9UO8Z",
        "outputId": "ded773ad-9d2f-4900-ba4a-b508eee43f37"
      },
      "outputs": [
        {
          "output_type": "stream",
          "name": "stdout",
          "text": [
            "Trial 49 summary\n",
            "Hyperparameters:\n",
            "n_hidden: 11\n",
            "n_neurons: 43\n",
            "learning_rate: 0.005343634220268847\n",
            "optimizer: RMSprop\n",
            "Score: 0.9285913705825806\n"
          ]
        }
      ],
      "source": [
        "best_trial = random_search_tuner.oracle.get_best_trials(num_trials=1)[0]\n",
        "best_trial.summary()"
      ]
    },
    {
      "cell_type": "code",
      "execution_count": 14,
      "metadata": {
        "colab": {
          "base_uri": "https://localhost:8080/"
        },
        "id": "HtpJfqSQE7Pc",
        "outputId": "d05a3e12-0333-49ff-ab99-dedc39579c76"
      },
      "outputs": [
        {
          "output_type": "stream",
          "name": "stderr",
          "text": [
            "/usr/local/lib/python3.10/dist-packages/keras/src/saving/saving_lib.py:713: UserWarning: Skipping variable loading for optimizer 'rmsprop', because it has 2 variables whereas the saved optimizer has 50 variables. \n",
            "  saveable.load_own_variables(weights_store.get(inner_path))\n"
          ]
        }
      ],
      "source": [
        "best_model = random_search_tuner.get_best_models(num_models=1)[0]"
      ]
    },
    {
      "cell_type": "code",
      "source": [
        "y_pred = best_model.predict(X_test)\n",
        "rmse = tf.sqrt(tf.reduce_mean(tf.square(y_test - y_pred)))\n",
        "rmse"
      ],
      "metadata": {
        "colab": {
          "base_uri": "https://localhost:8080/"
        },
        "id": "R3WnbC7SKoz_",
        "outputId": "f2fbefed-45a9-457f-d257-05f05df0b33c"
      },
      "execution_count": 15,
      "outputs": [
        {
          "output_type": "stream",
          "name": "stdout",
          "text": [
            "\u001b[1m2/2\u001b[0m \u001b[32m━━━━━━━━━━━━━━━━━━━━\u001b[0m\u001b[37m\u001b[0m \u001b[1m1s\u001b[0m 569ms/step\n"
          ]
        },
        {
          "output_type": "execute_result",
          "data": {
            "text/plain": [
              "<tf.Tensor: shape=(), dtype=float64, numpy=2.135623931049975>"
            ]
          },
          "metadata": {},
          "execution_count": 15
        }
      ]
    },
    {
      "cell_type": "code",
      "execution_count": 17,
      "metadata": {
        "colab": {
          "base_uri": "https://localhost:8080/"
        },
        "id": "Yog6P0CkUdMW",
        "outputId": "1992c5dc-8fc8-4732-9ebe-93caf6c7c2e3"
      },
      "outputs": [
        {
          "output_type": "stream",
          "name": "stdout",
          "text": [
            "\u001b[1m1/1\u001b[0m \u001b[32m━━━━━━━━━━━━━━━━━━━━\u001b[0m\u001b[37m\u001b[0m \u001b[1m0s\u001b[0m 345ms/step\n"
          ]
        },
        {
          "output_type": "execute_result",
          "data": {
            "text/plain": [
              "array([[1.4335467]], dtype=float32)"
            ]
          },
          "metadata": {},
          "execution_count": 17
        }
      ],
      "source": [
        "# Hwang WAR(-0.30) Prediction\n",
        "hwang = best_model.predict(np.array([[60, 58]]))\n",
        "hwang"
      ]
    },
    {
      "cell_type": "code",
      "execution_count": 18,
      "metadata": {
        "colab": {
          "base_uri": "https://localhost:8080/"
        },
        "id": "PZOmQeFNUhSD",
        "outputId": "aa3a0db2-b6a9-45cf-b0fc-1c16fbec2168"
      },
      "outputs": [
        {
          "output_type": "stream",
          "name": "stdout",
          "text": [
            "\u001b[1m1/1\u001b[0m \u001b[32m━━━━━━━━━━━━━━━━━━━━\u001b[0m\u001b[37m\u001b[0m \u001b[1m0s\u001b[0m 95ms/step\n"
          ]
        },
        {
          "output_type": "execute_result",
          "data": {
            "text/plain": [
              "array([[6.7689238]], dtype=float32)"
            ]
          },
          "metadata": {},
          "execution_count": 18
        }
      ],
      "source": [
        "# Rojas WAR(6.50) Prediction\n",
        "Rojas = best_model.predict(np.array([[108, 112]]))\n",
        "Rojas"
      ]
    },
    {
      "cell_type": "code",
      "execution_count": 19,
      "metadata": {
        "colab": {
          "base_uri": "https://localhost:8080/"
        },
        "id": "CfIpPQLyUl0s",
        "outputId": "bd6da878-cab6-43fc-a079-e5fc2f22eb33"
      },
      "outputs": [
        {
          "output_type": "stream",
          "name": "stdout",
          "text": [
            "\u001b[1m1/1\u001b[0m \u001b[32m━━━━━━━━━━━━━━━━━━━━\u001b[0m\u001b[37m\u001b[0m \u001b[1m0s\u001b[0m 44ms/step\n"
          ]
        },
        {
          "output_type": "execute_result",
          "data": {
            "text/plain": [
              "array([[11.544644]], dtype=float32)"
            ]
          },
          "metadata": {},
          "execution_count": 19
        }
      ],
      "source": [
        "# Kim Do Yeong WAR(8.32) Prediction\n",
        "DO_YEONG = best_model.predict(np.array([[143, 109]]))\n",
        "DO_YEONG"
      ]
    },
    {
      "cell_type": "code",
      "execution_count": 20,
      "metadata": {
        "colab": {
          "base_uri": "https://localhost:8080/"
        },
        "id": "5Zo4Xq9kUqCe",
        "outputId": "e16d6cd3-c86d-4b0d-e7eb-e2aa90002faf"
      },
      "outputs": [
        {
          "output_type": "stream",
          "name": "stdout",
          "text": [
            "\u001b[1m1/1\u001b[0m \u001b[32m━━━━━━━━━━━━━━━━━━━━\u001b[0m\u001b[37m\u001b[0m \u001b[1m0s\u001b[0m 30ms/step\n"
          ]
        },
        {
          "output_type": "execute_result",
          "data": {
            "text/plain": [
              "array([[6.072708]], dtype=float32)"
            ]
          },
          "metadata": {},
          "execution_count": 20
        }
      ],
      "source": [
        "# Choi Jung WAR(4.55) Prediction\n",
        "Choi_Jung = best_model.predict(np.array([[93, 107]]))\n",
        "Choi_Jung"
      ]
    },
    {
      "cell_type": "code",
      "execution_count": 21,
      "metadata": {
        "colab": {
          "base_uri": "https://localhost:8080/"
        },
        "id": "J6T7SekmUs5Y",
        "outputId": "a00efe92-b045-4362-a72c-0b22246515aa"
      },
      "outputs": [
        {
          "output_type": "stream",
          "name": "stdout",
          "text": [
            "\u001b[1m1/1\u001b[0m \u001b[32m━━━━━━━━━━━━━━━━━━━━\u001b[0m\u001b[37m\u001b[0m \u001b[1m0s\u001b[0m 83ms/step\n"
          ]
        },
        {
          "output_type": "execute_result",
          "data": {
            "text/plain": [
              "array([[5.411833]], dtype=float32)"
            ]
          },
          "metadata": {},
          "execution_count": 21
        }
      ],
      "source": [
        "# Kang Baek Ho WAR(2.12) Prediction\n",
        "BaekHo = best_model.predict(np.array([[92, 96]]))\n",
        "BaekHo"
      ]
    }
  ],
  "metadata": {
    "colab": {
      "provenance": []
    },
    "kernelspec": {
      "display_name": "Python 3",
      "name": "python3"
    },
    "language_info": {
      "name": "python"
    }
  },
  "nbformat": 4,
  "nbformat_minor": 0
}