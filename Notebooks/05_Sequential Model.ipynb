{
  "cells": [
    {
      "cell_type": "code",
      "execution_count": 1,
      "metadata": {
        "id": "qz4IHE_DUO8X"
      },
      "outputs": [],
      "source": [
        "import pandas as pd\n",
        "import numpy as np\n",
        "import matplotlib.pyplot as plt"
      ]
    },
    {
      "cell_type": "code",
      "execution_count": 45,
      "metadata": {
        "id": "D8xCJT5_UO8X"
      },
      "outputs": [],
      "source": [
        "df = pd.read_csv('/content/sample_data/final_df.csv', index_col=0)"
      ]
    },
    {
      "cell_type": "code",
      "execution_count": 47,
      "metadata": {
        "id": "0SRXc7tUUO8Y"
      },
      "outputs": [],
      "source": [
        "# Split train and test\n",
        "from sklearn.model_selection import train_test_split\n",
        "train_set, test_set = train_test_split(df, test_size=0.2, random_state=42)\n",
        "train_set, val_set = train_test_split(train_set, test_size=0.2, random_state=42)\n",
        "\n",
        "# split features and labels\n",
        "X_train = train_set.drop(\"WAR\", axis=1).to_numpy()\n",
        "y_train = train_set[\"WAR\"].copy().to_numpy()\n",
        "X_val = val_set.drop(\"WAR\", axis=1).to_numpy()\n",
        "y_val = val_set[\"WAR\"].copy().to_numpy()\n",
        "X_test = test_set.drop(\"WAR\", axis=1).to_numpy()\n",
        "y_test = test_set[\"WAR\"].copy().to_numpy()"
      ]
    },
    {
      "cell_type": "code",
      "source": [
        "X_train.shape"
      ],
      "metadata": {
        "colab": {
          "base_uri": "https://localhost:8080/"
        },
        "id": "8nt-dzpBTE9C",
        "outputId": "40611b81-2d02-4ea4-b849-69437d0d104d"
      },
      "execution_count": 48,
      "outputs": [
        {
          "output_type": "execute_result",
          "data": {
            "text/plain": [
              "(121, 12)"
            ]
          },
          "metadata": {},
          "execution_count": 48
        }
      ]
    },
    {
      "cell_type": "code",
      "execution_count": 5,
      "metadata": {
        "colab": {
          "base_uri": "https://localhost:8080/"
        },
        "id": "lYew0Wa3E7PZ",
        "outputId": "21926a3c-ad7f-4fca-83da-7a6d4b6fc3b1"
      },
      "outputs": [
        {
          "output_type": "stream",
          "name": "stdout",
          "text": [
            "\u001b[?25l   \u001b[90m━━━━━━━━━━━━━━━━━━━━━━━━━━━━━━━━━━━━━━━━\u001b[0m \u001b[32m0.0/129.1 kB\u001b[0m \u001b[31m?\u001b[0m eta \u001b[36m-:--:--\u001b[0m\r\u001b[2K   \u001b[90m━━━━━━━━━━━━━━━━━━━━━━━━━━━━━━━━━━━━━━━━\u001b[0m \u001b[32m129.1/129.1 kB\u001b[0m \u001b[31m4.2 MB/s\u001b[0m eta \u001b[36m0:00:00\u001b[0m\n",
            "\u001b[?25h"
          ]
        }
      ],
      "source": [
        "%pip install -q -U keras-tuner"
      ]
    },
    {
      "cell_type": "code",
      "execution_count": 50,
      "metadata": {
        "id": "ZLA_EKx1UO8Y"
      },
      "outputs": [],
      "source": [
        "import tensorflow as tf\n",
        "import keras_tuner as kt\n",
        "\n",
        "def rmse(y_true, y_pred):\n",
        "    return tf.sqrt(tf.reduce_mean(tf.square(tf.math.exp(y_true) - tf.math.exp(y_pred))))\n",
        "\n",
        "tf.random.set_seed(42)\n",
        "\n",
        "def build_model(hp):\n",
        "    n_hidden = hp.Int(\"n_hidden\", min_value=4, max_value=12, default=4)\n",
        "    n_neurons = hp.Int(\"n_neurons\", min_value=32, max_value=128)\n",
        "    learning_rate = hp.Float(\"learning_rate\", min_value=1e-4, max_value=1e-2,\n",
        "                             sampling=\"log\")\n",
        "    optimizer = hp.Choice(\"optimizer\", values=[\"adam\", 'NAG', 'RMSprop'])\n",
        "\n",
        "    if optimizer == \"NAG\":\n",
        "        optimizer = tf.keras.optimizers.SGD(learning_rate=learning_rate, momentum=0.9, nesterov=True, weight_decay=1e-4)\n",
        "    elif optimizer == \"RMSprop\":\n",
        "        optimizer = tf.keras.optimizers.RMSprop(learning_rate=learning_rate, rho=0.9, weight_decay=1e-4)\n",
        "    else:\n",
        "        optimizer = tf.keras.optimizers.Adam(learning_rate=learning_rate, weight_decay=1e-4)\n",
        "\n",
        "    model = tf.keras.Sequential()\n",
        "\n",
        "    for _ in range(n_hidden):\n",
        "        model.add(tf.keras.layers.BatchNormalization())\n",
        "        model.add(tf.keras.layers.Dense(n_neurons, activation=\"relu\"))\n",
        "\n",
        "    model.add(tf.keras.layers.BatchNormalization())\n",
        "    model.add(tf.keras.layers.Dense(1))\n",
        "\n",
        "    model.compile(loss=rmse, optimizer=optimizer)\n",
        "    return model"
      ]
    },
    {
      "cell_type": "code",
      "execution_count": 51,
      "metadata": {
        "colab": {
          "base_uri": "https://localhost:8080/"
        },
        "id": "5CEP6YGJE7Pa",
        "outputId": "5c8380ab-1b01-43ea-ef7f-0c0b09605ea0"
      },
      "outputs": [
        {
          "output_type": "stream",
          "name": "stdout",
          "text": [
            "Trial 50 Complete [00h 00m 23s]\n",
            "val_loss: 2.3556551933288574\n",
            "\n",
            "Best val_loss So Far: 0.8983734846115112\n",
            "Total elapsed time: 00h 20m 17s\n"
          ]
        }
      ],
      "source": [
        "random_search_tuner = kt.RandomSearch(\n",
        "    build_model, objective='val_loss', max_trials=50, overwrite=True,\n",
        "    directory='Predict WAR', project_name='my_rnd_search', seed=42\n",
        ")\n",
        "random_search_tuner.search(\n",
        "    X_train, y_train, epochs=100,\n",
        "    validation_data=(X_val, y_val), batch_size=32,\n",
        "    callbacks=[tf.keras.callbacks.EarlyStopping(patience=10, monitor='val_loss', restore_best_weights=True)])"
      ]
    },
    {
      "cell_type": "code",
      "source": [
        "random_search_tuner.results_summary()"
      ],
      "metadata": {
        "colab": {
          "base_uri": "https://localhost:8080/"
        },
        "id": "4Sx438IZFQh7",
        "outputId": "03d93e49-2ae2-4c78-c640-e0eb03f509bb"
      },
      "execution_count": 58,
      "outputs": [
        {
          "output_type": "stream",
          "name": "stdout",
          "text": [
            "Results summary\n",
            "Results in Predict WAR/my_rnd_search\n",
            "Showing 10 best trials\n",
            "Objective(name=\"val_loss\", direction=\"min\")\n",
            "\n",
            "Trial 43 summary\n",
            "Hyperparameters:\n",
            "n_hidden: 8\n",
            "n_neurons: 36\n",
            "learning_rate: 0.005218086982564764\n",
            "optimizer: RMSprop\n",
            "Score: 0.8983734846115112\n",
            "\n",
            "Trial 24 summary\n",
            "Hyperparameters:\n",
            "n_hidden: 5\n",
            "n_neurons: 32\n",
            "learning_rate: 0.0034928656354620575\n",
            "optimizer: NAG\n",
            "Score: 1.0388453006744385\n",
            "\n",
            "Trial 37 summary\n",
            "Hyperparameters:\n",
            "n_hidden: 4\n",
            "n_neurons: 105\n",
            "learning_rate: 0.0005580490517344697\n",
            "optimizer: NAG\n",
            "Score: 1.082019329071045\n",
            "\n",
            "Trial 06 summary\n",
            "Hyperparameters:\n",
            "n_hidden: 4\n",
            "n_neurons: 39\n",
            "learning_rate: 0.00304325168554751\n",
            "optimizer: RMSprop\n",
            "Score: 1.1811290979385376\n",
            "\n",
            "Trial 20 summary\n",
            "Hyperparameters:\n",
            "n_hidden: 8\n",
            "n_neurons: 37\n",
            "learning_rate: 0.008347597753558379\n",
            "optimizer: RMSprop\n",
            "Score: 1.1982266902923584\n",
            "\n",
            "Trial 40 summary\n",
            "Hyperparameters:\n",
            "n_hidden: 10\n",
            "n_neurons: 40\n",
            "learning_rate: 0.0006220323522895685\n",
            "optimizer: NAG\n",
            "Score: 1.2106966972351074\n",
            "\n",
            "Trial 27 summary\n",
            "Hyperparameters:\n",
            "n_hidden: 11\n",
            "n_neurons: 100\n",
            "learning_rate: 0.009022079415210089\n",
            "optimizer: RMSprop\n",
            "Score: 1.305106282234192\n",
            "\n",
            "Trial 22 summary\n",
            "Hyperparameters:\n",
            "n_hidden: 8\n",
            "n_neurons: 62\n",
            "learning_rate: 0.0006681248953196665\n",
            "optimizer: NAG\n",
            "Score: 1.3355886936187744\n",
            "\n",
            "Trial 03 summary\n",
            "Hyperparameters:\n",
            "n_hidden: 12\n",
            "n_neurons: 40\n",
            "learning_rate: 0.008547485565344062\n",
            "optimizer: adam\n",
            "Score: 1.5814366340637207\n",
            "\n",
            "Trial 35 summary\n",
            "Hyperparameters:\n",
            "n_hidden: 8\n",
            "n_neurons: 42\n",
            "learning_rate: 0.0003563164068303565\n",
            "optimizer: RMSprop\n",
            "Score: 1.583204746246338\n"
          ]
        }
      ]
    },
    {
      "cell_type": "code",
      "execution_count": 59,
      "metadata": {
        "colab": {
          "base_uri": "https://localhost:8080/"
        },
        "id": "4OMuEUP8UO8Z",
        "outputId": "39830029-69fc-433c-ff11-56f5e65f1e6b"
      },
      "outputs": [
        {
          "output_type": "execute_result",
          "data": {
            "text/plain": [
              "{'n_hidden': 8,\n",
              " 'n_neurons': 36,\n",
              " 'learning_rate': 0.005218086982564764,\n",
              " 'optimizer': 'RMSprop'}"
            ]
          },
          "metadata": {},
          "execution_count": 59
        }
      ],
      "source": [
        "top3_params = random_search_tuner.get_best_hyperparameters(num_trials=3)\n",
        "top3_params[0].values"
      ]
    },
    {
      "cell_type": "code",
      "execution_count": 60,
      "metadata": {
        "colab": {
          "base_uri": "https://localhost:8080/"
        },
        "id": "c7LgQ8a9UO8Z",
        "outputId": "714c8776-d1a2-4fb9-bb63-d4ff68a76714"
      },
      "outputs": [
        {
          "output_type": "stream",
          "name": "stdout",
          "text": [
            "Trial 43 summary\n",
            "Hyperparameters:\n",
            "n_hidden: 8\n",
            "n_neurons: 36\n",
            "learning_rate: 0.005218086982564764\n",
            "optimizer: RMSprop\n",
            "Score: 0.8983734846115112\n"
          ]
        }
      ],
      "source": [
        "best_trial = random_search_tuner.oracle.get_best_trials(num_trials=1)[0]\n",
        "best_trial.summary()"
      ]
    },
    {
      "cell_type": "code",
      "execution_count": 88,
      "metadata": {
        "colab": {
          "base_uri": "https://localhost:8080/"
        },
        "id": "HtpJfqSQE7Pc",
        "outputId": "3ac7b8c3-3724-4cf5-94ca-7e3bf1038b13"
      },
      "outputs": [
        {
          "output_type": "stream",
          "name": "stderr",
          "text": [
            "/usr/local/lib/python3.10/dist-packages/keras/src/saving/saving_lib.py:713: UserWarning: Skipping variable loading for optimizer 'rmsprop', because it has 2 variables whereas the saved optimizer has 38 variables. \n",
            "  saveable.load_own_variables(weights_store.get(inner_path))\n"
          ]
        }
      ],
      "source": [
        "best_model = random_search_tuner.get_best_models(num_models=1)[0]"
      ]
    },
    {
      "cell_type": "code",
      "source": [
        "from sklearn.metrics import root_mean_squared_error\n",
        "y_pred = best_model.predict(X_train)\n",
        "rmse = root_mean_squared_error(np.exp(y_train) + 1.351, np.exp(y_pred) + 1.351)\n",
        "rmse"
      ],
      "metadata": {
        "colab": {
          "base_uri": "https://localhost:8080/"
        },
        "id": "R3WnbC7SKoz_",
        "outputId": "1beae369-ad63-4fc5-a917-579f18a84cff"
      },
      "execution_count": 89,
      "outputs": [
        {
          "output_type": "stream",
          "name": "stdout",
          "text": [
            "\u001b[1m4/4\u001b[0m \u001b[32m━━━━━━━━━━━━━━━━━━━━\u001b[0m\u001b[37m\u001b[0m \u001b[1m0s\u001b[0m 88ms/step\n"
          ]
        },
        {
          "output_type": "execute_result",
          "data": {
            "text/plain": [
              "0.9084251121791694"
            ]
          },
          "metadata": {},
          "execution_count": 89
        }
      ]
    },
    {
      "cell_type": "code",
      "source": [
        "y_pred = best_model.predict(X_test)\n",
        "rmse = root_mean_squared_error(np.exp(y_test) + 1.351, np.exp(y_pred) + 1.351)\n",
        "rmse"
      ],
      "metadata": {
        "colab": {
          "base_uri": "https://localhost:8080/"
        },
        "id": "aqVpN05YNjh3",
        "outputId": "7d641889-93b9-4de8-a0fe-1477755bbf85"
      },
      "execution_count": 90,
      "outputs": [
        {
          "output_type": "stream",
          "name": "stdout",
          "text": [
            "\u001b[1m2/2\u001b[0m \u001b[32m━━━━━━━━━━━━━━━━━━━━\u001b[0m\u001b[37m\u001b[0m \u001b[1m0s\u001b[0m 5ms/step \n"
          ]
        },
        {
          "output_type": "execute_result",
          "data": {
            "text/plain": [
              "1.1184691675816831"
            ]
          },
          "metadata": {},
          "execution_count": 90
        }
      ]
    },
    {
      "cell_type": "code",
      "execution_count": 91,
      "metadata": {
        "colab": {
          "base_uri": "https://localhost:8080/"
        },
        "id": "Yog6P0CkUdMW",
        "outputId": "cec9344c-33de-4869-964d-93d6a7b1c29f"
      },
      "outputs": [
        {
          "output_type": "stream",
          "name": "stdout",
          "text": [
            "\u001b[1m1/1\u001b[0m \u001b[32m━━━━━━━━━━━━━━━━━━━━\u001b[0m\u001b[37m\u001b[0m \u001b[1m0s\u001b[0m 33ms/step\n"
          ]
        },
        {
          "output_type": "execute_result",
          "data": {
            "text/plain": [
              "array([[14.139984]], dtype=float32)"
            ]
          },
          "metadata": {},
          "execution_count": 91
        }
      ],
      "source": [
        "# Chang-Ki Hong (6.67) 2023\n",
        "ChangKiHong = np.array([400, np.log(109), np.log(1), np.log(216), np.log(65), np.log(88), np.log(3), np.log(6), 0.332, 0.444, 0.412, 0.856])\n",
        "ChangKiHong = tf.constant(ChangKiHong.reshape(-1, 12))\n",
        "y_pred = best_model.predict(ChangKiHong)\n",
        "y_pred = np.exp(y_pred) - 1.351\n",
        "y_pred"
      ]
    },
    {
      "cell_type": "code",
      "execution_count": 92,
      "metadata": {
        "colab": {
          "base_uri": "https://localhost:8080/"
        },
        "id": "PZOmQeFNUhSD",
        "outputId": "9f92b7d2-d279-4fc1-b575-231645f8b852"
      },
      "outputs": [
        {
          "output_type": "stream",
          "name": "stdout",
          "text": [
            "\u001b[1m1/1\u001b[0m \u001b[32m━━━━━━━━━━━━━━━━━━━━\u001b[0m\u001b[37m\u001b[0m \u001b[1m0s\u001b[0m 31ms/step\n"
          ]
        },
        {
          "output_type": "execute_result",
          "data": {
            "text/plain": [
              "array([[38.2664]], dtype=float32)"
            ]
          },
          "metadata": {},
          "execution_count": 92
        }
      ],
      "source": [
        "# Austin (4.97) 2023\n",
        "Auntin = np.array([520, np.log(87), np.log(23), np.log(269), np.log(95), np.log(53), np.log(2), np.log(7), 0.313, 0.376, 0.517, 0.893])\n",
        "Auntin = tf.constant(Auntin.reshape(-1, 12))\n",
        "y_pred = best_model.predict(Auntin)\n",
        "y_pred = np.exp(y_pred) - 1.351\n",
        "y_pred"
      ]
    },
    {
      "cell_type": "code",
      "execution_count": 93,
      "metadata": {
        "colab": {
          "base_uri": "https://localhost:8080/"
        },
        "id": "CfIpPQLyUl0s",
        "outputId": "549952b3-edfb-4755-e8b2-44994369e38d"
      },
      "outputs": [
        {
          "output_type": "stream",
          "name": "stdout",
          "text": [
            "\u001b[1m1/1\u001b[0m \u001b[32m━━━━━━━━━━━━━━━━━━━━\u001b[0m\u001b[37m\u001b[0m \u001b[1m0s\u001b[0m 32ms/step\n"
          ]
        },
        {
          "output_type": "execute_result",
          "data": {
            "text/plain": [
              "array([[6.059135]], dtype=float32)"
            ]
          },
          "metadata": {},
          "execution_count": 93
        }
      ],
      "source": [
        "# Jae-Gyun Hwang (3.14) 2023\n",
        "JaeGyunHwang = np.array([407, np.log(62), np.log(6), np.log(168), np.log(49), np.log(45), np.log(1), np.log(1), 0.295, 0.366, 0.413, 0.779])\n",
        "JaeGyunHwang = tf.constant(JaeGyunHwang.reshape(-1, 12))\n",
        "y_pred = best_model.predict(JaeGyunHwang)\n",
        "y_pred = np.exp(y_pred) - 1.351\n",
        "y_pred"
      ]
    },
    {
      "cell_type": "code",
      "execution_count": 94,
      "metadata": {
        "colab": {
          "base_uri": "https://localhost:8080/"
        },
        "id": "5Zo4Xq9kUqCe",
        "outputId": "a473412e-ff36-4cb6-a1dd-6bd3e676388d"
      },
      "outputs": [
        {
          "output_type": "stream",
          "name": "stdout",
          "text": [
            "\u001b[1m1/1\u001b[0m \u001b[32m━━━━━━━━━━━━━━━━━━━━\u001b[0m\u001b[37m\u001b[0m \u001b[1m0s\u001b[0m 33ms/step\n"
          ]
        },
        {
          "output_type": "execute_result",
          "data": {
            "text/plain": [
              "array([[7.387658]], dtype=float32)"
            ]
          },
          "metadata": {},
          "execution_count": 94
        }
      ],
      "source": [
        "# Shin-Soo Choo (1.72) 2023\n",
        "Choo = np.array([382, np.log(65), np.log(12), np.log(152), np.log(41), np.log(65), np.log(1), np.log(2), 0.254, 0.379, 0.398, 0.777])\n",
        "Choo = tf.constant(Choo.reshape(-1, 12))\n",
        "y_pred = best_model.predict(Choo)\n",
        "y_pred = np.exp(y_pred) - 1.351\n",
        "y_pred"
      ]
    },
    {
      "cell_type": "code",
      "execution_count": 95,
      "metadata": {
        "colab": {
          "base_uri": "https://localhost:8080/"
        },
        "id": "J6T7SekmUs5Y",
        "outputId": "28909214-925d-459a-edc9-43f22c69bf8c"
      },
      "outputs": [
        {
          "output_type": "stream",
          "name": "stdout",
          "text": [
            "\u001b[1m1/1\u001b[0m \u001b[32m━━━━━━━━━━━━━━━━━━━━\u001b[0m\u001b[37m\u001b[0m \u001b[1m0s\u001b[0m 31ms/step\n"
          ]
        },
        {
          "output_type": "execute_result",
          "data": {
            "text/plain": [
              "array([[5.786073]], dtype=float32)"
            ]
          },
          "metadata": {},
          "execution_count": 95
        }
      ],
      "source": [
        "# EunWonJung (0.74) 2023\n",
        "EunWonJung = np.array([388, np.log(50), np.log(2), np.log(104), np.log(30), np.log(62), np.log(1), np.log(1), 0.222, 0.333, 0.268, 0.601])\n",
        "EunWonJung = tf.constant(EunWonJung.reshape(-1, 12))\n",
        "y_pred = best_model.predict(EunWonJung)\n",
        "y_pred = np.exp(y_pred) - 1.351\n",
        "y_pred"
      ]
    }
  ],
  "metadata": {
    "colab": {
      "provenance": []
    },
    "kernelspec": {
      "display_name": "Python 3",
      "name": "python3"
    },
    "language_info": {
      "name": "python"
    }
  },
  "nbformat": 4,
  "nbformat_minor": 0
}